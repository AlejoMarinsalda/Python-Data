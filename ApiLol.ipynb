{
  "nbformat": 4,
  "nbformat_minor": 0,
  "metadata": {
    "colab": {
      "provenance": [],
      "toc_visible": true,
      "authorship_tag": "ABX9TyMSszodD5i15Fw8RKSo/RcG",
      "include_colab_link": true
    },
    "kernelspec": {
      "name": "python3",
      "display_name": "Python 3"
    },
    "language_info": {
      "name": "python"
    }
  },
  "cells": [
    {
      "cell_type": "markdown",
      "metadata": {
        "id": "view-in-github",
        "colab_type": "text"
      },
      "source": [
        "<a href=\"https://colab.research.google.com/github/AlejoMarinsalda/Python-Data/blob/main/ApiLol.ipynb\" target=\"_parent\"><img src=\"https://colab.research.google.com/assets/colab-badge.svg\" alt=\"Open In Colab\"/></a>"
      ]
    },
    {
      "cell_type": "code",
      "execution_count": null,
      "metadata": {
        "id": "te3BxRSNYJBq"
      },
      "outputs": [],
      "source": [
        "import requests\n",
        "from time import sleep\n",
        "import pandas as pd\n",
        "from datetime import datetime\n",
        "import os \n"
      ]
    },
    {
      "cell_type": "code",
      "source": [],
      "metadata": {
        "id": "yw25VXyeyRVW"
      },
      "execution_count": null,
      "outputs": []
    },
    {
      "cell_type": "code",
      "source": [],
      "metadata": {
        "id": "Wca_VsxakUbs"
      },
      "execution_count": null,
      "outputs": []
    },
    {
      "cell_type": "code",
      "source": [
        "api_key = \"RGAPI-69560027-3975-44a0-a1df-717f5ad91963\""
      ],
      "metadata": {
        "id": "U-YELPZWYXv2"
      },
      "execution_count": null,
      "outputs": []
    },
    {
      "cell_type": "markdown",
      "source": [],
      "metadata": {
        "id": "OW4rhDVHyQoJ"
      }
    },
    {
      "cell_type": "code",
      "source": [
        "servers ={\n",
        "    \"br1\":\"br1\",\n",
        "     \"eun1\":\"eun1\",\n",
        "     \"euw1\":\"euw1\",\n",
        "     \"la1\":\"la1\",\n",
        "     \"la2\":\"la2\",\n",
        "     \"na1\":\"na1\",\n",
        "     \"oc1\":\"oc1\",\n",
        "     \"ru\":\"ru\",\n",
        "     \"tr1\":\"tr1\",\n",
        "}"
      ],
      "metadata": {
        "id": "atowXV55YiVa"
      },
      "execution_count": null,
      "outputs": []
    },
    {
      "cell_type": "code",
      "source": [
        "name = \"alemsd14\"\n",
        "user_per_server = {}\n",
        "for server in servers:\n",
        "    endpoint=f\"https://{server}.api.riotgames.com/lol/summoner/v4/summoners/by-name/{name}?api_key=RGAPI-69560027-3975-44a0-a1df-717f5ad91963\"\n",
        "    res = requests.get(endpoint).json()\n",
        "    if res.get(\"status\", None):\n",
        "        print(f\"No user in {server}:{res}\")\n",
        "    else:\n",
        "        print(f\"User found in {server}\")\n",
        "        user_per_server[server] = res\n",
        "    sleep(1)\n"
      ],
      "metadata": {
        "id": "OohvSZMTaSHj"
      },
      "execution_count": null,
      "outputs": []
    },
    {
      "cell_type": "code",
      "source": [
        "user_per_server"
      ],
      "metadata": {
        "id": "JBapgoNBaUbb"
      },
      "execution_count": null,
      "outputs": []
    },
    {
      "cell_type": "markdown",
      "source": [
        "##Account"
      ],
      "metadata": {
        "id": "borNZZO_fRiy"
      }
    },
    {
      "cell_type": "code",
      "source": [
        "endpoint=f\"https://la2.api.riotgames.com/lol/summoner/v4/summoners/by-name/alemsd14?api_key=RGAPI-69560027-3975-44a0-a1df-717f5ad91963\"\n",
        "summoner = requests.get(endpoint).json()"
      ],
      "metadata": {
        "id": "64OTzQLkdWEY"
      },
      "execution_count": null,
      "outputs": []
    },
    {
      "cell_type": "code",
      "source": [
        "df=pd.DataFrame([summoner])\n",
        "df"
      ],
      "metadata": {
        "id": "ChUQCKOyef6I"
      },
      "execution_count": null,
      "outputs": []
    },
    {
      "cell_type": "code",
      "source": [
        "summ_id = \"qjeK5zC-LurB2kx56qh3aJvsQjvkmHoFEQKrP5idLclf7xY\" "
      ],
      "metadata": {
        "id": "vrKB3FqHlkM1"
      },
      "execution_count": null,
      "outputs": []
    },
    {
      "cell_type": "markdown",
      "source": [
        "##Extract and concat ranking mastery"
      ],
      "metadata": {
        "id": "vrSkL816femC"
      }
    },
    {
      "cell_type": "code",
      "source": [
        "summ_id=summoner[\"id\"]\n",
        "endpoint=f\"https://la2.api.riotgames.com/lol/league/v4/entries/by-summoner/{summ_id}?api_key=RGAPI-69560027-3975-44a0-a1df-717f5ad91963\"\n",
        "res = requests.get(endpoint).json()\n",
        "df_rank = pd.DataFrame([res[0]])\n",
        "df_rank"
      ],
      "metadata": {
        "id": "BFdRAodteh8u"
      },
      "execution_count": null,
      "outputs": []
    },
    {
      "cell_type": "code",
      "source": [
        "df_summ = pd.concat([df,df_rank],axis=1)"
      ],
      "metadata": {
        "id": "C5Sdt4r0gWwI"
      },
      "execution_count": null,
      "outputs": []
    },
    {
      "cell_type": "code",
      "source": [
        "df_summ.dtypes"
      ],
      "metadata": {
        "id": "YJLic3PCgxX2"
      },
      "execution_count": null,
      "outputs": []
    },
    {
      "cell_type": "code",
      "source": [
        "df_summ=df_summ.drop(columns=[\"summonerId\",\"summonerName\"])\n",
        "df_summ"
      ],
      "metadata": {
        "id": "mVRgc2oJg07w"
      },
      "execution_count": null,
      "outputs": []
    },
    {
      "cell_type": "code",
      "source": [
        "#lets transform revisionDate from epoch to datetime\n",
        "df[\"revisionDate\"] = pd.to_datetime(df[\"revisionDate\"],unit=\"ms\")\n",
        "df[\"revisionDate\"]"
      ],
      "metadata": {
        "id": "yI9xkm6Mhm_5"
      },
      "execution_count": null,
      "outputs": []
    },
    {
      "cell_type": "markdown",
      "source": [
        "Save the data into a file"
      ],
      "metadata": {
        "id": "pXPMUcJMjd6m"
      }
    },
    {
      "cell_type": "code",
      "source": [
        "\n",
        "df.to_csv(f\"data/summoner.csv\",index = False)"
      ],
      "metadata": {
        "id": "ovmnCe7nh5Ge"
      },
      "execution_count": null,
      "outputs": []
    },
    {
      "cell_type": "markdown",
      "source": [
        "##Champions mastery"
      ],
      "metadata": {
        "id": "Lg4W-V-vlV-b"
      }
    },
    {
      "cell_type": "code",
      "source": [
        "\n",
        "endpoint=f\"https://la2.api.riotgames.com/lol/champion-mastery/v4/champion-masteries/by-summoner/{summ_id}?api_key=RGAPI-69560027-3975-44a0-a1df-717f5ad91963\"\n",
        "res = requests.get(endpoint).json()\n",
        "df_champs =pd.DataFrame(res)\n",
        "df_champs"
      ],
      "metadata": {
        "id": "-A3gfLC7lVG5"
      },
      "execution_count": null,
      "outputs": []
    },
    {
      "cell_type": "code",
      "source": [
        "df_champs[\"lastPlayTime\"] = pd.to_datetime(df_champs[\"lastPlayTime\"],unit=\"ms\")\n",
        "df.to_csv(f\"data/champs_mastery_{datetime.today()}.csv\",index = False)\n"
      ],
      "metadata": {
        "id": "20PekSWUmqRV"
      },
      "execution_count": null,
      "outputs": []
    },
    {
      "cell_type": "markdown",
      "source": [],
      "metadata": {
        "id": "yDWlUNQCjxUu"
      }
    },
    {
      "cell_type": "markdown",
      "source": [
        "##Match history"
      ],
      "metadata": {
        "id": "P4NuWjxknd8W"
      }
    },
    {
      "cell_type": "code",
      "source": [
        "puuid=summoner[\"puuid\"]\n",
        "endpoint =f\"https://americas.api.riotgames.com/lol/match/v5/matches/by-puuid/8d3WIsnmge6BGLXHsRNbV1hW6itmW_60bDRGARpFTxZBvdjbDL2PMG9MuuWxnl-l7X5OPAqbhwGxxQ../ids?start=0&count=20&api_key=RGAPI-69560027-3975-44a0-a1df-717f5ad91963\"\n",
        "res = requests.get(endpoint).json()\n"
      ],
      "metadata": {
        "id": "oMSNnNGvnhPq"
      },
      "execution_count": null,
      "outputs": []
    },
    {
      "cell_type": "code",
      "source": [
        "res"
      ],
      "metadata": {
        "id": "Tw4eKkTWousr"
      },
      "execution_count": null,
      "outputs": []
    },
    {
      "cell_type": "code",
      "source": [
        "match_id=res[0]\n",
        "endpoint =f\"https://americas.api.riotgames.com/lol/match/v5/matches/{match_id}?api_key=RGAPI-69560027-3975-44a0-a1df-717f5ad91963\"\n",
        "res = requests.get(endpoint).json()\n",
        "res"
      ],
      "metadata": {
        "id": "G6ro0YWkowH-"
      },
      "execution_count": null,
      "outputs": []
    },
    {
      "cell_type": "code",
      "source": [
        "basics = [\n",
        "    'puuid',\n",
        "     \"win\",\n",
        "     \"lane\",\n",
        "      \"role\",\n",
        "      \"teamPosition\",\n",
        "      \"kills\",\n",
        "      \"deaths\",\n",
        "      \"totalMinionsKilled\",\n",
        "      'eligibleForProgression',\n",
        "       \"timePlayed\",\n",
        "      'gameEndedInEarlySurrender',\n",
        "         'gameEndedInSurrender',\n",
        "\n",
        "\n",
        "  ]\n",
        "\n",
        "kills =[\n",
        "      \"killingSprees\",\n",
        "      \"firstBloodAssist\",\n",
        "      \"firstBloodKill\",\n",
        "      \"doubleKills\",\n",
        "      \"tripleKills\",\n",
        "      \"quadraKills\",\n",
        "       \"pentaKills\",\n",
        "  ]\n",
        "\n",
        "wards=[\n",
        "      \"wardsKilled\",\n",
        "      \"wardsPlaced\",\n",
        "      \"visionWardsBoughtInGame\",\n",
        "      \"detectorWardsPlaced\",\n",
        "  ]\n",
        "\n",
        "objetives = [\n",
        "      \"objectivesStolen\",\n",
        "      \"turretKills\",\n",
        "      \"dragonKills\",\n",
        "      \"inhibitorKills\",\n",
        "      \"nexusKills\",\n",
        "  ]\n",
        "\n",
        "pings =[\n",
        "      \"dangerPings\",\n",
        "      \"enemyMissingPing\",\n",
        "      \"enemyVisionPings\",\n",
        "      \"getBackPings\",\n",
        "      \"holdPings\",\n",
        "      \"needVisionPings\",\n",
        "      \"onMyWayPings\",\n",
        "      \"pushPings\",\n",
        "      \"visionClearedPings\",\n",
        "  ]\n",
        "\n",
        "stats = basics + kills +wards + objetives"
      ],
      "metadata": {
        "id": "EjceHw4ZrdGK"
      },
      "execution_count": null,
      "outputs": []
    },
    {
      "cell_type": "code",
      "source": [
        "df = pd.DataFrame(res[\"info\"][\"participants\"])\n",
        "df = df[stats]\n",
        "df"
      ],
      "metadata": {
        "id": "cAG3sP_muYxw"
      },
      "execution_count": null,
      "outputs": []
    },
    {
      "cell_type": "code",
      "source": [],
      "metadata": {
        "id": "2eylamj0wE6-"
      },
      "execution_count": null,
      "outputs": []
    }
  ]
}